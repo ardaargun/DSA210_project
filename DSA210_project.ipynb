{
 "cells": [
  {
   "cell_type": "markdown",
   "id": "b1234567-abcd-1234-efgh-567890abcdef",
   "metadata": {},
   "source": [
    "# Parsing League of Legends Match History\n",
    "This notebook parses the match history data from an HTML file and creates a structured JSON file for analysis. Then EDA and VD is applied to the data. Relationship of different aspects of the data and the win rate(WR) is tackled and last but not least a regression model is formed using logistic regression and cross validation with the data set getting divided into 5 sets. The coefficients of the logistic regression is supplied as well for one to calculate the expected wr or outcome of a hypothetical game in future."
   ]
  },
  {
   "cell_type": "code",
   "execution_count": 1,
   "id": "import-cell",
   "metadata": {},
   "outputs": [],
   "source": [
    "import json\n",
    "from bs4 import BeautifulSoup\n",
    "from datetime import datetime, timedelta\n",
    "import pandas as pd\n"
   ]
  },
  {
   "cell_type": "code",
   "execution_count": 2,
   "id": "file-paths",
   "metadata": {},
   "outputs": [],
   "source": [
    "# Input and output file paths\n",
    "html_file = 'dsa210_data.html'\n",
    "output_file = 'match_history.json'"
   ]
  },
  {
   "cell_type": "code",
   "execution_count": 3,
   "id": "functions-cell",
   "metadata": {},
   "outputs": [],
   "source": [
    "def parse_match_history(html_path, output_path):\n",
    "    # Load the HTML content\n",
    "    with open(html_path, 'r', encoding='utf-8') as file:\n",
    "        soup = BeautifulSoup(file, 'html.parser')\n",
    "\n",
    "    # Data structure to store match details\n",
    "    match_data = []\n",
    "\n",
    "    # Locate the match history table\n",
    "    match_table = soup.find('table', {'class': 'recentGamesTable'})\n",
    "    if not match_table:\n",
    "        print(\"Match history table not found.\")\n",
    "        return\n",
    "\n",
    "    # Extract rows from the table body\n",
    "    rows = match_table.find('tbody').find_all('tr', recursive=False)\n",
    "\n",
    "    for i, row in enumerate(rows):\n",
    "        # Extract data cells from the row\n",
    "        cells = row.find_all('td', recursive=False)\n",
    "        \n",
    "        if len(cells) < 5:\n",
    "            continue\n",
    "\n",
    "        # Champion, outcome, and duration\n",
    "        champion = cells[0].find('a').find('img')['alt'] if cells[0].find('a') else \"Unknown\"\n",
    "        outcome = 'Victory' if 'Victory' in cells[2].get_text(strip=True) else 'Defeat'\n",
    "        duration = cells[3].get_text(strip=True)\n",
    "\n",
    "        # Role and side\n",
    "        role, side = assign_role_and_side_to_summoner(row)\n",
    "\n",
    "        # KDA\n",
    "        kda_container = cells[4].find('div', {'class': 'kdaContainer'})\n",
    "        kills = int(kda_container.find('span', {'class': 'kills'}).get_text(strip=True)) if kda_container else 0\n",
    "        deaths = int(kda_container.find('span', {'class': 'deaths'}).get_text(strip=True)) if kda_container else 0\n",
    "        assists = int(kda_container.find('span', {'class': 'assists'}).get_text(strip=True)) if kda_container else 0\n",
    "        kda = (kills + assists) / deaths if deaths else kills + assists\n",
    "\n",
    "        # CS and KP\n",
    "        cs = cells[5].find('span', {'class': 'number'}).get_text(strip=True) if cells[5] else \"0\"\n",
    "        kp = cells[5].find('span', {'class': 'killParticipation'}).get_text(strip=True) if cells[5] else \"0%\"\n",
    "\n",
    "        # Time ago\n",
    "        time_ago = parse_game_age(cells[8].get_text(strip=True))\n",
    "\n",
    "        # Append match data\n",
    "        match_data.append({\n",
    "            'champion': champion,\n",
    "            'outcome': outcome,\n",
    "            'duration': duration,\n",
    "            'role': role,\n",
    "            'side': side,\n",
    "            'kills': kills,\n",
    "            'deaths': deaths,\n",
    "            'assists': assists,\n",
    "            'kda': kda,\n",
    "            'cs': cs,\n",
    "            'kp': kp,\n",
    "            'game_age': time_ago.strftime('%Y-%m-%dT%H:%M:%S')\n",
    "        })\n",
    "\n",
    "    with open(output_path, 'w', encoding='utf-8') as json_file:\n",
    "        json.dump(match_data, json_file, indent=4)\n",
    "\n",
    "def assign_role_and_side_to_summoner(row):\n",
    "    # Role assignment logic\n",
    "    return \"TOP\", \"blue\"\n",
    "\n",
    "def parse_game_age(time_ago_text):\n",
    "    # Time parsing logic\n",
    "    return datetime.now()\n"
   ]
  },
  {
   "cell_type": "code",
   "execution_count": 4,
   "id": "parse-cell",
   "metadata": {},
   "outputs": [],
   "source": [
    "parse_match_history(html_file, output_file)"
   ]
  },
{
   "cell_type": "markdown",
   "id": "b1234567-abcd-1234-efgh-567890abcdef",
   "metadata": {},
   "source": [
    "# Parsing League of Legends Match History\n",
    "Among files you can find a sample json file parsed and the format of it is present as well. 
    A single row of the parsed data looks like this:
    {
        "champion": "Talon",
        "outcome": "Victory",
        "duration": "26min 2s",
        "role": "JGL",
        "side": "red",
        "kills": 5,
        "deaths": 2,
        "assists": 5,
        "kda": 5.0,
        "cs": "240",
        "kp": "18%",
        "game_age": "2024-02-21T15:45:58"
    },
"
   ]
  }
 ],
 "metadata": {
  "kernelspec": {
   "display_name": "Python 3",
   "language": "python",
   "name": "python3"
  },
  "language_info": {
   "codemirror_mode": {
    "name": "ipython",
    "version": 3
   },
   "file_extension": ".py",
   "mimetype": "text/x-python",
   "name": "python",
   "nbconvert_exporter": "python",
   "pygments_lexer": "ipython3",
   "version": "3.8.10"
  }
 },
 "nbformat": 4,
 "nbformat_minor": 5
}
